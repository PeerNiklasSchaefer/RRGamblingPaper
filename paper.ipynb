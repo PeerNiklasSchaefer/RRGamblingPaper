{
 "cells": [
  {
   "cell_type": "markdown",
   "id": "644b79ba",
   "metadata": {},
   "source": [
    "# Why Are Roulette Tables Green? (Fake Paper)\n",
    "---\n",
    "### The Effect of Background Color on Risk-Taking in Decision-Making Tasks\n",
    "\n"
   ]
  },
  {
   "cell_type": "markdown",
   "id": "eea3e3d5",
   "metadata": {},
   "source": [
    "## Abstract \n",
    "This study investigates the effect of background color on risk-taking behavior in a simple decision-making task. Sixty participants were randomly assigned to one of three groups, each exposed to a different background color: red, green, or gray (control). Participants completed a series of choices between a guaranteed monetary reward and a riskier option with equal probability of a higher or zero payoff. Results suggest that background color influenced decision-making tendencies, with participants in the red condition displaying more risk-averse behavior compared to those in the green and control conditions. These findings support the hypothesis that color can subconsciously influence cognitive processes related to risk assessment. The experiment was designed for ease of replication, contributing to the broader understanding of environmental factors in decision-making psychology."
   ]
  },
  {
   "cell_type": "markdown",
   "id": "e8b3ffc0",
   "metadata": {},
   "source": [
    "## Motivation for this notebook\n",
    "\n",
    "This paper is provided as both a Jupyter notebook and an HTML file, along with a corresponding checksum to support reproducibility. To verify the integrity of the HTML file, you can generate a checksum of your version and compare it with the one provided in the documentation. All required dependencies are managed via the included Makefile to ensure a consistent and reproducible environment.\n",
    "\n",
    "If you do not have the commandline interface software tool `make` installed on your system, please install it first. Before running the notebook, please make sure to install the necessary packages by executing:\n",
    "\n",
    "```bash\n",
    "make setup\n",
    "```\n",
    "\n",
    "This command will create a virtual environment (if not already present) and install all required Python packages listed in requirements.txt. Once the setup is complete, you can launch the notebook with:\n",
    "\n",
    "```bash\n",
    "make notebook\n",
    "```\n",
    "You may also regenerate the HTML file using the followingcommand and compare it to the original:\n",
    "\n",
    "```bash \n",
    "make html\n",
    "``` \n",
    "\n",
    "\n",
    "This approach guarantees that everyone working with the notebook uses the exact same package versions, minimizing environment-related issues and maximizing reproducibility.\n",
    "\n",
    "For better comparability, we provide our own system specifications:\n",
    "\n",
    "- Operating System: Windows 11 Pro (Version: 24H2, Build: 26100.4061)\n",
    "- Python Version: 3.13.2\n",
    "- Jupyter Notebook Version: 7.2.2\n",
    "- Make Tool Version: 3.81"
   ]
  },
  {
   "cell_type": "markdown",
   "id": "77ee69a7",
   "metadata": {},
   "source": [
    "## Introduction\n",
    "Color is a subtle yet powerful element of our environment that can influence perception, emotion, and behavior. Previous research in psychology and marketing has suggested that specific colors may trigger distinct cognitive or emotional responses. For instance, the color red is often associated with danger, caution, or error, potentially leading to more conservative behavior, while green is commonly linked to safety, permission, and growth, which may promote more exploratory or risk-tolerant choices. Decision-making under risk is a key area in behavioral research, particularly in understanding how seemingly irrelevant contextual factors can bias judgment. While much attention has been paid to economic incentives and personality traits, less is known about how visual cues like background color may shape risk preferences. This study aims to investigate whether background color affects risk-taking in a simple monetary decision-making task. It is hypothesized that participants exposed to a red background will make more risk-averse choices compared to those exposed to green or neutral (gray) backgrounds. By isolating color as a single variable, this experiment seeks to contribute to our understanding of environmental influences on decision-making and assess whether such effects are robust and reproducible."
   ]
  },
  {
   "cell_type": "markdown",
   "id": "136b9b91",
   "metadata": {},
   "source": [
    "## Method\n",
    "### Participants\n",
    "Sixty participants (N = 60) were recruited from a university student pool and randomly assigned to one of three experimental conditions: Red, Green, or Gray. Each group consisted of 20 participants. All participants reported normal or corrected-to-normal vision and no color blindness, and gave informed consent prior to participation.\n",
    "\n",
    "### Design\n",
    "The study employed a between-subjects design. The independent variable was the color of the tablecloth (red, green, or gray), while the dependent variable was the number of risky choices, the highest consecutive steak of risky choices and the decision time made by each participant during the task.\n",
    "\n",
    "### Materials\n",
    "The experiment was conducted in a neutral, quiet room. In the center of the room was a table covered with either a red, green, or gray tablecloth depending on the participant’s assigned condition. On the table were two large buzzer buttons, one labeled “Safe” and the other “Risk”. These buttons were used by participants to indicate their choices during the task.\n",
    "\n",
    "The decision-making task consisted of 10 trials. On each trial, participants chose between:\n",
    "\n",
    "- A safe option: a guaranteed €5\n",
    "- The risky option: consisting of a 50% chance to win a predefined reward (ranging from €7 to €17) or nothing. \n",
    "\n",
    "All participants get the same risky reward questions in a random order. They were informed that one of their 10 choices would be randomly selected and honored for real payout at the end of the experiment to encourage genuine decision-making.\n",
    "\n",
    "### Procedure\n",
    "Participants were brought individually into the testing room and seated at the table. They were given standardized verbal instructions explaining the task and the meaning of the two buzzers. Each trial was read aloud by the experimenter, who reminded the participant of the two options. Participants then made their selection by pressing either the Safe or Risk buzzer. The tablecloth color remained constant throughout the session and was the only visual cue varied between groups. The session took approximately 10 minutes per participant, and all choices were recorded manually by the experimenter."
   ]
  },
  {
   "cell_type": "markdown",
   "id": "734d8da4",
   "metadata": {},
   "source": [
    "## Results\n",
    "\n",
    "In this section, we present the results of the experiment. To generate the results using the provided code, ensure that the `data.csv` file is present in the current working directory.\n",
    "\n",
    "The analysis begins by calculating the mean and standard deviation of the results for each group. These descriptive statistics serve as the basis for conducting a one-way ANOVA, which tests for statistically significant differences between the means of the three groups.\n",
    "\n",
    "If the ANOVA indicates significant differences, a post-hoc Tukey-Kramer test is performed to identify which specific groups differ from each other.\n"
   ]
  },
  {
   "cell_type": "code",
   "id": "88da87ea",
   "metadata": {
    "ExecuteTime": {
     "end_time": "2025-07-01T08:32:56.123478Z",
     "start_time": "2025-07-01T08:32:55.875222Z"
    }
   },
   "source": [
    "# Import necessary libraries\n",
    "import pandas as pd\n",
    "from scipy import stats\n",
    "from statsmodels.stats.multicomp import pairwise_tukeyhsd\n",
    "import matplotlib.pyplot as plt\n",
    "\n",
    "# Load CSV data\n",
    "df = pd.read_csv(\"data.csv\")\n",
    "\n",
    "# Group data\n",
    "grouped = df.groupby(\"Group\")[\"NumRiskyChoices\"]\n",
    "\n",
    "# Calculate means and standard deviations\n",
    "for group, data in grouped:\n",
    "    print(f\"{group} group: Mean = {data.mean():.2f}, SD = {data.std():.2f}\")\n",
    "\n",
    "# One-way ANOVA\n",
    "red = df[df[\"Group\"] == \"Red\"][\"NumRiskyChoices\"]\n",
    "green = df[df[\"Group\"] == \"Green\"][\"NumRiskyChoices\"]\n",
    "gray = df[df[\"Group\"] == \"Gray\"][\"NumRiskyChoices\"]\n",
    "\n",
    "f_val, p_val = stats.f_oneway(red, green, gray)\n",
    "print(f\"\\nANOVA result: F = {f_val:.2f}, p = {p_val:.4f}\")\n",
    "\n",
    "# Tukey's HSD post-hoc test\n",
    "tukey = pairwise_tukeyhsd(endog=df[\"NumRiskyChoices\"], groups=df[\"Group\"], alpha=0.05)\n",
    "print(\"\\nTukey's HSD results:\")\n",
    "print(tukey)\n"
   ],
   "outputs": [
    {
     "name": "stdout",
     "output_type": "stream",
     "text": [
      "Gray group: Mean = 4.90, SD = 0.72\n",
      "Green group: Mean = 6.35, SD = 0.93\n",
      "Red group: Mean = 3.60, SD = 1.23\n",
      "\n",
      "ANOVA result: F = 39.12, p = 0.0000\n",
      "\n",
      "Tukey's HSD results:\n",
      "Multiple Comparison of Means - Tukey HSD, FWER=0.05 \n",
      "====================================================\n",
      "group1 group2 meandiff p-adj   lower   upper  reject\n",
      "----------------------------------------------------\n",
      "  Gray  Green     1.45 0.0001  0.7015  2.1985   True\n",
      "  Gray    Red     -1.3 0.0003 -2.0485 -0.5515   True\n",
      " Green    Red    -2.75    0.0 -3.4985 -2.0015   True\n",
      "----------------------------------------------------\n"
     ]
    }
   ],
   "execution_count": 22
  },
  {
   "cell_type": "markdown",
   "id": "26b9f15a",
   "metadata": {},
   "source": [
    "The means and standard deviations suggest that participants in the red condition were more risk-averse, while those in the green condition took more risks. The analysis of the one-way ANOVA test revealed a significant effect of background color on the number of risky choices. The Post-hoc Tukey tests showed:\n",
    "- The green group made significantly more risky choices than the red group\n",
    "- The gray (control) group differed significantly from the green group, but not from the red group"
   ]
  },
  {
   "metadata": {},
   "cell_type": "markdown",
   "source": [
    "### Risk Behavior Over Time\n",
    "\n",
    "To further investigate decision-making behavior, we analyzed the longest consecutive streaks of risky choices made by each participant. This metric, labeled HighestStreak, provides insight into consistency or momentum in risk-taking behavior. Participants in the green condition exhibited significantly longer risky choice streaks compared to those in the red condition and the gray condition. This pattern reinforces our main finding, suggesting not only that green environments promote more risk-taking overall, but also foster more sustained periods of risky decision-making. Red environments, in contrast, were associated with short and sporadic risk-taking, indicating more cautious and interrupted behavior patterns."
   ],
   "id": "b69e611c6f5fb719"
  },
  {
   "metadata": {
    "ExecuteTime": {
     "end_time": "2025-07-01T08:32:56.489196Z",
     "start_time": "2025-07-01T08:32:56.141247Z"
    }
   },
   "cell_type": "code",
   "source": [
    "# Group statistics\n",
    "group_stats = df.groupby(\"Group\")[\"HighestStreak\"].agg(['mean', 'std'])\n",
    "\n",
    "print(\"Average Highest Streak per Group:\")\n",
    "print(group_stats)\n",
    "\n",
    "# ANOVA\n",
    "red = df[df[\"Group\"] == \"Red\"][\"HighestStreak\"]\n",
    "green = df[df[\"Group\"] == \"Green\"][\"HighestStreak\"]\n",
    "gray = df[df[\"Group\"] == \"Gray\"][\"HighestStreak\"]\n",
    "\n",
    "f_val, p_val = stats.f_oneway(red, green, gray)\n",
    "print(f\"\\nANOVA result: F = {f_val:.2f}, p = {p_val:.4f}\")\n",
    "\n",
    "# Tukey's HSD\n",
    "tukey = pairwise_tukeyhsd(endog=df[\"HighestStreak\"], groups=df[\"Group\"], alpha=0.05)\n",
    "print(\"\\nTukey HSD for Highest Streak:\")\n",
    "print(tukey)\n",
    "\n",
    "# Visualization\n",
    "colors = {'Red': 'red', 'Green': 'green', 'Gray': 'gray'}\n",
    "group_stats[\"color\"] = [colors[group] for group in group_stats.index]\n",
    "\n",
    "plt.figure(figsize=(6, 4))\n",
    "bars = plt.bar(group_stats.index, group_stats[\"mean\"],\n",
    "               yerr=group_stats[\"std\"], capsize=5,\n",
    "               color=group_stats[\"color\"], edgecolor='black')\n",
    "\n",
    "plt.ylabel(\"Average Highest Risky Streak (± SD)\")\n",
    "plt.title(\"Risk Streaks by Color Condition\")\n",
    "plt.ylim(0, 8)\n",
    "\n",
    "# Add value labels\n",
    "for bar in bars:\n",
    "    height = bar.get_height()\n",
    "    plt.text(bar.get_x() + bar.get_width()/2, height + 0.2,\n",
    "             f'{height:.2f}', ha='center')\n",
    "\n",
    "plt.tight_layout()\n",
    "plt.show()"
   ],
   "id": "12ce99f4732a3e2e",
   "outputs": [
    {
     "name": "stdout",
     "output_type": "stream",
     "text": [
      "Average Highest Streak per Group:\n",
      "       mean       std\n",
      "Group                \n",
      "Gray    3.9  0.718185\n",
      "Green   5.4  1.142481\n",
      "Red     1.9  0.788069\n",
      "\n",
      "ANOVA result: F = 75.75, p = 0.0000\n",
      "\n",
      "Tukey HSD for Highest Streak:\n",
      "Multiple Comparison of Means - Tukey HSD, FWER=0.05\n",
      "===================================================\n",
      "group1 group2 meandiff p-adj  lower   upper  reject\n",
      "---------------------------------------------------\n",
      "  Gray  Green      1.5   0.0  0.8134  2.1866   True\n",
      "  Gray    Red     -2.0   0.0 -2.6866 -1.3134   True\n",
      " Green    Red     -3.5   0.0 -4.1866 -2.8134   True\n",
      "---------------------------------------------------\n"
     ]
    },
    {
     "data": {
      "text/plain": [
       "<Figure size 600x400 with 1 Axes>"
      ],
      "image/png": "[encoded data removed]"
     },
     "metadata": {},
     "output_type": "display_data"
    }
   ],
   "execution_count": 23
  },
  {
   "metadata": {},
   "cell_type": "markdown",
   "source": [
    "### Reaction Time and Decision-Making\n",
    "\n",
    "In addition to the number of risky choices and highest risky streak, the analysis of participants’ average reaction times revealed notable differences between groups. Participants in the red condition exhibited longer average reaction times, suggesting increased deliberation or hesitation when making decisions under a red background. Conversely, participants in the green condition showed shorter reaction times, indicating quicker, potentially more impulsive choices. The gray group’s reaction times fell between these extremes, consistent with its role as a neutral control condition. These findings complement the behavioral data by suggesting that color cues may not only influence the propensity to take risks but also affect the cognitive processing speed underlying decision-making. Longer reaction times in the red condition may reflect heightened caution or conflict, while the quicker responses in the green condition align with greater risk tolerance."
   ],
   "id": "6badda5bd98d7f51"
  },
  {
   "metadata": {
    "ExecuteTime": {
     "end_time": "2025-07-01T08:32:56.599483Z",
     "start_time": "2025-07-01T08:32:56.516565Z"
    }
   },
   "cell_type": "code",
   "source": [
    "plt.figure(figsize=(8,6))\n",
    "\n",
    "# Boxplot of AvgReactionTime by Group\n",
    "df.boxplot(column=\"AvgReactionTime\", by=\"Group\", grid=False,\n",
    "           patch_artist=True,\n",
    "           boxprops=dict(facecolor=\"lightblue\", color=\"blue\"),\n",
    "           medianprops=dict(color=\"red\"),\n",
    "           whiskerprops=dict(color=\"blue\"),\n",
    "           capprops=dict(color=\"blue\"),\n",
    "           flierprops=dict(marker='o', color='blue', alpha=0.5))\n",
    "\n",
    "plt.title(\"Average Reaction Time by Tablecloth Color Group\")\n",
    "plt.suptitle(\"\")  # Suppress the default title\n",
    "plt.xlabel(\"Group\")\n",
    "plt.ylabel(\"Average Reaction Time (seconds)\")\n",
    "plt.show()"
   ],
   "id": "73195038f97911c3",
   "outputs": [
    {
     "data": {
      "text/plain": [
       "<Figure size 800x600 with 0 Axes>"
      ]
     },
     "metadata": {},
     "output_type": "display_data"
    },
    {
     "data": {
      "text/plain": [
       "<Figure size 640x480 with 1 Axes>"
      ],
      "image/png": "[encoded data removed]"
     },
     "metadata": {},
     "output_type": "display_data"
    }
   ],
   "execution_count": 24
  },
  {
   "cell_type": "markdown",
   "id": "c707f747",
   "metadata": {},
   "source": [
    "## Discussion\n",
    "\n",
    "The results of this study support the hypothesis that background color influences risk-taking behavior. Participants exposed to a red background made significantly fewer risky choices compared to those in the green condition, suggesting that color cues can subconsciously shape decision-making. The control group (gray) fell between the two, further reinforcing the idea that red tends to promote caution, while green encourages more risk-tolerant behavior.\n",
    "\n",
    "These findings align with previous research suggesting that red is associated with danger, warning, or avoidance behaviors, potentially activating a more conservative mindset. In contrast, green is commonly linked to safety, positivity, and forward action, which may explain the increase in risk-taking in that group.\n",
    "\n",
    "The experiment demonstrates that even minimal and seemingly irrelevant environmental cues, such as background color, can influence cognitive processes related to decision-making. This has practical implications for interface design, marketing, and behavioral nudges in digital environments.\n",
    "\n",
    "An additional analysis of participants’ average reaction times provided further insight into the cognitive mechanisms underlying these behavioral differences. Participants in the red condition showed longer reaction times, suggesting greater deliberation or hesitation when making decisions under a red background. Conversely, the green group responded more quickly, consistent with more impulsive or confident decision-making. The gray group’s reaction times were intermediate, in line with their risk-taking behavior.\n",
    "\n",
    "This pattern of reaction times complements the risk-taking data, indicating that color cues not only affect the choices made but also the cognitive processing speed during decision-making. Longer reaction times under red may reflect increased caution or internal conflict, while shorter reaction times under green may signal reduced inhibition and increased risk tolerance. Although the amount of money involved in each risky choice was kept constant across participants to control for its influence, future studies could explore how varying stakes interact with color cues and reaction times.\n",
    "\n",
    "Together, these findings suggest that environmental color can subtly influence both the outcomes and dynamics of decision-making, highlighting the importance of considering such factors in contexts where risk assessment is critical."
   ]
  },
  {
   "cell_type": "markdown",
   "id": "4348f661",
   "metadata": {},
   "source": [
    "## Limitations\n",
    "While the results were statistically significant, the study has some limitations. The sample size was relatively small and consisted solely of university students, which may limit the generalizability of the findings. Additionally, the task was artificial and may not fully reflect real-world decision-making under risk."
   ]
  },
  {
   "cell_type": "markdown",
   "id": "6b348256",
   "metadata": {},
   "source": [
    "## Future Directions\n",
    "Future research could explore the effects of other colors (e.g., blue, yellow), examine gender or cultural differences in color perception, or use more complex decision-making tasks that more closely resemble real-life choices. It would also be valuable to replicate the study with a larger and more diverse sample to assess robustness. It is also worth noting that the absolute amounts of money used in the decision-making task could influence participants’ risk preferences. For example, individuals may perceive a €15 reward as more enticing—and therefore more worth the risk—than a €7 reward. However, because all participants were presented with the same set of 10 trials in randomized order, this potential effect was held constant across all conditions and thus was not expected to bias the comparison between color groups. Future work may involve exploring the impact of the amount of money granted and determining a threshold for the different groups of participants."
   ]
  },
  {
   "cell_type": "markdown",
   "id": "21eda0d2",
   "metadata": {},
   "source": [
    "## Conclusion\n",
    "In conclusion, this study provides evidence that background color can influence risk\n",
    "preferences in a simple decision-making task. These results contribute to our\n",
    "understanding of how subtle contextual factors can affect behavior and underscore the importance of considering environmental design in areas where decisions are made."
   ]
  },
  {
   "cell_type": "markdown",
   "id": "c8ecd0ee",
   "metadata": {},
   "source": [
    "## References\n",
    "\n",
    "- Elliot, A. J., & Maier, M. A. (2014). Color psychology: Effects of perceiving color on psychological functioning in humans. *Annual Review of Psychology*, 65, 95–120.\n",
    "- Kouchaki, M., & Smith, I. H. (2014). The morning morality effect: The influence of time of day on unethical behavior. *Psychological Science*, 25(1), 95–102.\n",
    "- Mehta, R., & Zhu, R. (2009). Blue or red? Exploring the effect of color on cognitive task performances. *Science*, 323(5918), 1226–1229.\n",
    "- Soldat, A. S., Sinclair, R. C., & Mark, M. M. (1997). Color as an environmental processing cue: External information and color can influence performance. *Journal of Experimental Social Psychology*, 33(4), 368–378.\n",
    "- Zhou, X., & Pham, M. T. (2004). Promotion and prevention across mental accounts: When financial products dictate consumers’ investment goals. *Journal of Consumer Research*, 31(1), 125–135.\n"
   ]
  }
 ],
 "metadata": {
  "kernelspec": {
   "display_name": "RR",
   "language": "python",
   "name": "python3"
  },
  "language_info": {
   "codemirror_mode": {
    "name": "ipython",
    "version": 3
   },
   "file_extension": ".py",
   "mimetype": "text/x-python",
   "name": "python",
   "nbconvert_exporter": "python",
   "pygments_lexer": "ipython3",
   "version": "3.13.2"
  }
 },
 "nbformat": 4,
 "nbformat_minor": 5
}
