{
 "cells": [
  {
   "cell_type": "markdown",
   "id": "644b79ba",
   "metadata": {},
   "source": [
    "# Why Are Roulette Tables Green? (Fake Paper)\n",
    "---\n",
    "### The Effect of Background Color on Risk-Taking in Decision-Making Tasks\n",
    "\n"
   ]
  },
  {
   "cell_type": "markdown",
   "id": "eea3e3d5",
   "metadata": {},
   "source": [
    "## Abstract \n",
    "This study investigates the effect of background color on risk-taking behavior in a simple decision-making task. Sixty participants were randomly assigned to one of three groups, each exposed to a different background color: red, green, or gray (control). Participants completed a series of choices between a guaranteed monetary reward and a riskier option with equal probability of a higher or zero payoff. Results suggest that background color influenced decision-making tendencies, with participants in the red condition displaying more risk-averse behavior compared to those in the green and control conditions. These findings support the hypothesis that color can subconsciously influence cognitive processes related to risk assessment. The experiment was designed for ease of replication, contributing to the broader understanding of environmental factors in decision-making psychology."
   ]
  },
  {
   "cell_type": "markdown",
   "id": "e8b3ffc0",
   "metadata": {},
   "source": [
    "## Motivation for this notebook\n",
    "\n",
    "This paper is provided as a Jupyter notebook to enhance the reproducibility of our research. To ensure a consistent environment, all required dependencies are managed and installed via the included Makefile.\n",
    "\n",
    "If you do not have the commandline interface software tool `make` installed on your system, please install it first. Before running the notebook, please make sure to install the necessary packages by executing:\n",
    "\n",
    "```bash\n",
    "make install\n",
    "```\n",
    "\n",
    "This command will create a virtual environment (if not already present) and install all required Python packages listed in requirements.txt. Once the setup is complete, you can launch the notebook with:\n",
    "\n",
    "```bash\n",
    "make notebook\n",
    "```\n",
    "\n",
    "This approach guarantees that everyone working with the notebook uses the exact same package versions, minimizing environment-related issues and maximizing reproducibility.\n",
    "\n",
    "For better comparability, we provide our own system specifications:\n",
    "\n",
    "- Operating System: Windows 11 Pro (Version: 24H2, Build: 26100.4061)\n",
    "- Python Version: 3.13.2\n",
    "- Jupyter Notebook Version: 7.2.2\n",
    "- Make Tool Version: 3.81"
   ]
  },
  {
   "cell_type": "markdown",
   "id": "77ee69a7",
   "metadata": {},
   "source": [
    "## Introduction\n",
    "Color is a subtle yet powerful element of our environment that can influence perception, emotion, and behavior. Previous research in psychology and marketing has suggested that specific colors may trigger distinct cognitive or emotional responses. For instance, the color red is often associated with danger, caution, or error, potentially leading to more conservative behavior, while green is commonly linked to safety, permission, and growth, which may promote more exploratory or risk-tolerant choices. Decision-making under risk is a key area in behavioral research, particularly in understanding how seemingly irrelevant contextual factors can bias judgment. While much attention has been paid to economic incentives and personality traits, less is known about how visual cues like background color may shape risk preferences. This study aims to investigate whether background color affects risk-taking in a simple monetary decision-making task. It is hypothesized that participants exposed to a red background will make more risk-averse choices compared to those exposed to green or neutral (gray) backgrounds. By isolating color as a single variable, this experiment seeks to contribute to our understanding of environmental influences on decision-making and assess whether such effects are robust and reproducible."
   ]
  },
  {
   "cell_type": "markdown",
   "id": "136b9b91",
   "metadata": {},
   "source": [
    "## Method\n",
    "### Participants\n",
    "Sixty participants (N = 60) were recruited from a university student pool and randomly assigned to one of three experimental conditions: Red, Green, or Gray. Each group consisted of 20 participants. All participants reported normal or corrected-to-normal vision and no color blindness, and gave informed consent prior to participation.\n",
    "\n",
    "### Design\n",
    "The study employed a between-subjects design. The independent variable was the color of the tablecloth (red, green, or gray), while the dependent variable was the number of risky choices made by each participant during the task.\n",
    "\n",
    "### Materials\n",
    "The experiment was conducted in a neutral, quiet room. In the center of the room was a table covered with either a red, green, or gray tablecloth depending on the participant’s assigned condition. On the table were two large buzzer buttons, one labeled “Safe” and the other “Risk”. These buttons were used by participants to indicate their choices during the task.\n",
    "\n",
    "The decision-making task consisted of 10 trials. On each trial, participants chose between:\n",
    "\n",
    "- A safe option: a guaranteed €5\n",
    "- The risky option: consisting of a 50% chance to win a predefined reward (ranging from €7 to €17) or nothing. \n",
    "\n",
    "All participants get the same risky reward questions in a random order. They were informed that one of their 10 choices would be randomly selected and honored for real payout at the end of the experiment to encourage genuine decision-making.\n",
    "\n",
    "### Procedure\n",
    "Participants were brought individually into the testing room and seated at the table. They were given standardized verbal instructions explaining the task and the meaning of the two buzzers. Each trial was read aloud by the experimenter, who reminded the participant of the two options. Participants then made their selection by pressing either the Safe or Risk buzzer. The tablecloth color remained constant throughout the session and was the only visual cue varied between groups. The session took approximately 10 minutes per participant, and all choices were recorded manually by the experimenter."
   ]
  },
  {
   "cell_type": "markdown",
   "id": "734d8da4",
   "metadata": {},
   "source": [
    "## Results\n",
    "\n",
    "In this section, we present the results of the experiment. To generate the results using the provided code, ensure that the `data.csv` file is present in the current working directory.\n",
    "\n",
    "The analysis begins by calculating the mean and standard deviation of the results for each group. These descriptive statistics serve as the basis for conducting a one-way ANOVA, which tests for statistically significant differences between the means of the three groups.\n",
    "\n",
    "If the ANOVA indicates significant differences, a post-hoc Tukey-Kramer test is performed to identify which specific groups differ from each other.\n"
   ]
  },
  {
   "cell_type": "code",
   "execution_count": 2,
   "id": "88da87ea",
   "metadata": {},
   "outputs": [
    {
     "name": "stdout",
     "output_type": "stream",
     "text": [
      "Gray group: Mean = 4.90, SD = 0.72\n",
      "Green group: Mean = 6.35, SD = 0.93\n",
      "Red group: Mean = 3.60, SD = 1.23\n",
      "\n",
      "ANOVA result: F = 39.12, p = 0.0000\n",
      "\n",
      "Tukey's HSD results:\n",
      "Multiple Comparison of Means - Tukey HSD, FWER=0.05 \n",
      "====================================================\n",
      "group1 group2 meandiff p-adj   lower   upper  reject\n",
      "----------------------------------------------------\n",
      "  Gray  Green     1.45 0.0001  0.7015  2.1985   True\n",
      "  Gray    Red     -1.3 0.0003 -2.0485 -0.5515   True\n",
      " Green    Red    -2.75    0.0 -3.4985 -2.0015   True\n",
      "----------------------------------------------------\n"
     ]
    }
   ],
   "source": [
    "# Import necessary libraries\n",
    "import pandas as pd\n",
    "from scipy import stats\n",
    "from statsmodels.stats.multicomp import pairwise_tukeyhsd\n",
    "\n",
    "# Load CSV data\n",
    "df = pd.read_csv(\"data.csv\")\n",
    "\n",
    "# Group data\n",
    "grouped = df.groupby(\"Group\")[\"NumRiskyChoices\"]\n",
    "\n",
    "# Calculate means and standard deviations\n",
    "for group, data in grouped:\n",
    "    print(f\"{group} group: Mean = {data.mean():.2f}, SD = {data.std():.2f}\")\n",
    "\n",
    "# One-way ANOVA\n",
    "red = df[df[\"Group\"] == \"Red\"][\"NumRiskyChoices\"]\n",
    "green = df[df[\"Group\"] == \"Green\"][\"NumRiskyChoices\"]\n",
    "gray = df[df[\"Group\"] == \"Gray\"][\"NumRiskyChoices\"]\n",
    "\n",
    "f_val, p_val = stats.f_oneway(red, green, gray)\n",
    "print(f\"\\nANOVA result: F = {f_val:.2f}, p = {p_val:.4f}\")\n",
    "\n",
    "# Tukey's HSD post-hoc test\n",
    "tukey = pairwise_tukeyhsd(endog=df[\"NumRiskyChoices\"], groups=df[\"Group\"], alpha=0.05)\n",
    "print(\"\\nTukey's HSD results:\")\n",
    "print(tukey)\n"
   ]
  },
  {
   "cell_type": "markdown",
   "id": "26b9f15a",
   "metadata": {},
   "source": [
    "The means and standard deviations suggest that participants in the red condition were more risk-averse, while those in the green condition took more risks. The analysis of the one-way ANOVA test revealed a significant effect of background color on the number of risky choices. The Post-hoc Tukey tests showed:\n",
    "- The green group made significantly more risky choices than the red group\n",
    "- The gray (control) group differed significantly from the green group, but not from the red group"
   ]
  },
  {
   "cell_type": "markdown",
   "id": "c707f747",
   "metadata": {},
   "source": [
    "## Discussion\n",
    "The results of this study support the hypothesis that background color influences risk-taking behavior. Participants exposed to a red background made significantly fewer risky choices compared to those in the green condition, suggesting that color cues can subconsciously shape decision-making. The control group (gray) fell between the two,\n",
    "further reinforcing the idea that red tends to promote caution, while green encourages more risk-tolerant behavior.\n",
    "\n",
    "These findings align with previous research suggesting that red is associated with\n",
    "danger, warning, or avoidance behaviors, potentially activating a more conservative\n",
    "mindset. In contrast, green is commonly linked to safety, positivity, and forward action, which may explain the increase in risk-taking in that group.\n",
    "\n",
    "The experiment demonstrates that even minimal and seemingly irrelevant\n",
    "environmental cues, such as background color, can influence cognitive processes\n",
    "related to decision-making. This has practical implications for interface design,\n",
    "marketing, and behavioral nudges in digital environments."
   ]
  },
  {
   "cell_type": "markdown",
   "id": "4348f661",
   "metadata": {},
   "source": [
    "## Limitations\n",
    "While the results were statistically significant, the study has some limitations. The sample size was relatively small and consisted solely of university students, which may limit the generalizability of the findings. Additionally, the task was artificial and may not fully reflect real-world decision-making under risk."
   ]
  },
  {
   "cell_type": "markdown",
   "id": "6b348256",
   "metadata": {},
   "source": [
    "## Future Directions\n",
    "Future research could explore the effects of other colors (e.g., blue, yellow), examine gender or cultural differences in color perception, or use more complex decision-making tasks that more closely resemble real-life choices. It would also be valuable to replicate the study with a larger and more diverse sample to assess robustness. It is also worth noting that the absolute amounts of money used in the decision-making task could influence participants’ risk preferences. For example, individuals may perceive a €15 reward as more enticing—and therefore more worth the risk—than a €7 reward. However, because all participants were presented with the same set of 10 trials in randomized order, this potential effect was held constant across all conditions and thus was not expected to bias the comparison between color groups. Future work may involve exploring the impact of the amount of money granted and determining a threshold the different groups of participants."
   ]
  },
  {
   "cell_type": "markdown",
   "id": "21eda0d2",
   "metadata": {},
   "source": [
    "## Conclusion\n",
    "In conclusion, this study provides evidence that background color can influence risk\n",
    "preferences in a simple decision-making task. These results contribute to our\n",
    "understanding of how subtle contextual factors can affect behavior and underscore the importance of considering environmental design in areas where decisions are made."
   ]
  },
  {
   "cell_type": "markdown",
   "id": "c8ecd0ee",
   "metadata": {},
   "source": [
    "## References\n",
    "\n",
    "- Elliot, A. J., & Maier, M. A. (2014). Color psychology: Effects of perceiving color on psychological functioning in humans. *Annual Review of Psychology*, 65, 95–120.\n",
    "- Kouchaki, M., & Smith, I. H. (2014). The morning morality effect: The influence of time of day on unethical behavior. *Psychological Science*, 25(1), 95–102.\n",
    "- Mehta, R., & Zhu, R. (2009). Blue or red? Exploring the effect of color on cognitive task performances. *Science*, 323(5918), 1226–1229.\n",
    "- Soldat, A. S., Sinclair, R. C., & Mark, M. M. (1997). Color as an environmental processing cue: External information and color can influence performance. *Journal of Experimental Social Psychology*, 33(4), 368–378.\n",
    "- Zhou, X., & Pham, M. T. (2004). Promotion and prevention across mental accounts: When financial products dictate consumers’ investment goals. *Journal of Consumer Research*, 31(1), 125–135.\n"
   ]
  }
 ],
 "metadata": {
  "kernelspec": {
   "display_name": "RR",
   "language": "python",
   "name": "python3"
  },
  "language_info": {
   "codemirror_mode": {
    "name": "ipython",
    "version": 3
   },
   "file_extension": ".py",
   "mimetype": "text/x-python",
   "name": "python",
   "nbconvert_exporter": "python",
   "pygments_lexer": "ipython3",
   "version": "3.13.2"
  }
 },
 "nbformat": 4,
 "nbformat_minor": 5
}
